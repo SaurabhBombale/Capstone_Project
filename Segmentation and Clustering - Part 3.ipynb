{
    "cells": [
        {
            "cell_type": "markdown",
            "metadata": {
                "collapsed": true
            },
            "source": "## Segmentation and Clusturing in Toronto"
        },
        {
            "cell_type": "markdown",
            "metadata": {},
            "source": "## Task 1"
        },
        {
            "cell_type": "code",
            "execution_count": 2,
            "metadata": {},
            "outputs": [],
            "source": "from bs4 import BeautifulSoup\nimport requests\nimport pandas as pd"
        },
        {
            "cell_type": "code",
            "execution_count": 3,
            "metadata": {},
            "outputs": [],
            "source": "url = 'https://en.wikipedia.org/wiki/List_of_postal_codes_of_Canada:_M'\nwiki_html = requests.get(url).text\nsoup = BeautifulSoup(wiki_html, 'html.parser')"
        },
        {
            "cell_type": "code",
            "execution_count": 4,
            "metadata": {},
            "outputs": [],
            "source": "data = []\nfor tr in soup.tbody.find_all('tr'):\n    data.append([ td.get_text().strip() for td in tr.find_all('td')])"
        },
        {
            "cell_type": "code",
            "execution_count": 5,
            "metadata": {},
            "outputs": [],
            "source": "df = pd.DataFrame(data, columns=['PostalCode','Borough','Neighborhood'])"
        },
        {
            "cell_type": "code",
            "execution_count": 6,
            "metadata": {},
            "outputs": [
                {
                    "data": {
                        "text/html": "<div>\n<style scoped>\n    .dataframe tbody tr th:only-of-type {\n        vertical-align: middle;\n    }\n\n    .dataframe tbody tr th {\n        vertical-align: top;\n    }\n\n    .dataframe thead th {\n        text-align: right;\n    }\n</style>\n<table border=\"1\" class=\"dataframe\">\n  <thead>\n    <tr style=\"text-align: right;\">\n      <th></th>\n      <th>PostalCode</th>\n      <th>Borough</th>\n      <th>Neighborhood</th>\n    </tr>\n  </thead>\n  <tbody>\n    <tr>\n      <th>0</th>\n      <td>None</td>\n      <td>None</td>\n      <td>None</td>\n    </tr>\n    <tr>\n      <th>1</th>\n      <td>M1A</td>\n      <td>Not assigned</td>\n      <td></td>\n    </tr>\n    <tr>\n      <th>2</th>\n      <td>M2A</td>\n      <td>Not assigned</td>\n      <td></td>\n    </tr>\n    <tr>\n      <th>3</th>\n      <td>M3A</td>\n      <td>North York</td>\n      <td>Parkwoods</td>\n    </tr>\n    <tr>\n      <th>4</th>\n      <td>M4A</td>\n      <td>North York</td>\n      <td>Victoria Village</td>\n    </tr>\n  </tbody>\n</table>\n</div>",
                        "text/plain": "  PostalCode       Borough      Neighborhood\n0       None          None              None\n1        M1A  Not assigned                  \n2        M2A  Not assigned                  \n3        M3A    North York         Parkwoods\n4        M4A    North York  Victoria Village"
                    },
                    "execution_count": 6,
                    "metadata": {},
                    "output_type": "execute_result"
                }
            ],
            "source": "df.head()"
        },
        {
            "cell_type": "code",
            "execution_count": 7,
            "metadata": {},
            "outputs": [
                {
                    "data": {
                        "text/plain": "(181, 3)"
                    },
                    "execution_count": 7,
                    "metadata": {},
                    "output_type": "execute_result"
                }
            ],
            "source": "df.shape"
        },
        {
            "cell_type": "code",
            "execution_count": 8,
            "metadata": {},
            "outputs": [
                {
                    "data": {
                        "text/plain": "(Empty DataFrame\n Columns: [PostalCode, Borough, Neighborhood]\n Index: [], (0, 3))"
                    },
                    "execution_count": 8,
                    "metadata": {},
                    "output_type": "execute_result"
                }
            ],
            "source": "not_assigned = 'Not assigned'\nnot_assigned_row = df[ (df.Borough == not_assigned) & (df.Neighborhood == not_assigned) ]\nnot_assigned_row.head(), not_assigned_row.shape"
        },
        {
            "cell_type": "code",
            "execution_count": 9,
            "metadata": {},
            "outputs": [],
            "source": "df.drop(not_assigned_row.index, inplace=True)"
        },
        {
            "cell_type": "code",
            "execution_count": 10,
            "metadata": {},
            "outputs": [
                {
                    "data": {
                        "text/html": "<div>\n<style scoped>\n    .dataframe tbody tr th:only-of-type {\n        vertical-align: middle;\n    }\n\n    .dataframe tbody tr th {\n        vertical-align: top;\n    }\n\n    .dataframe thead th {\n        text-align: right;\n    }\n</style>\n<table border=\"1\" class=\"dataframe\">\n  <thead>\n    <tr style=\"text-align: right;\">\n      <th></th>\n      <th>PostalCode</th>\n      <th>Borough</th>\n      <th>Neighborhood</th>\n    </tr>\n  </thead>\n  <tbody>\n    <tr>\n      <th>1</th>\n      <td>M1A</td>\n      <td>Not assigned</td>\n      <td></td>\n    </tr>\n    <tr>\n      <th>2</th>\n      <td>M2A</td>\n      <td>Not assigned</td>\n      <td></td>\n    </tr>\n    <tr>\n      <th>3</th>\n      <td>M3A</td>\n      <td>North York</td>\n      <td>Parkwoods</td>\n    </tr>\n    <tr>\n      <th>4</th>\n      <td>M4A</td>\n      <td>North York</td>\n      <td>Victoria Village</td>\n    </tr>\n    <tr>\n      <th>5</th>\n      <td>M5A</td>\n      <td>Downtown Toronto</td>\n      <td>Regent Park / Harbourfront</td>\n    </tr>\n  </tbody>\n</table>\n</div>",
                        "text/plain": "  PostalCode           Borough                Neighborhood\n1        M1A      Not assigned                            \n2        M2A      Not assigned                            \n3        M3A        North York                   Parkwoods\n4        M4A        North York            Victoria Village\n5        M5A  Downtown Toronto  Regent Park / Harbourfront"
                    },
                    "execution_count": 10,
                    "metadata": {},
                    "output_type": "execute_result"
                }
            ],
            "source": "df.dropna(inplace=True)\ndf.head()"
        },
        {
            "cell_type": "code",
            "execution_count": 11,
            "metadata": {},
            "outputs": [
                {
                    "data": {
                        "text/plain": "(180, 3)"
                    },
                    "execution_count": 11,
                    "metadata": {},
                    "output_type": "execute_result"
                }
            ],
            "source": "df.shape"
        },
        {
            "cell_type": "code",
            "execution_count": 12,
            "metadata": {},
            "outputs": [],
            "source": "def neighborhood_list(grouped):    \n    if( len(grouped) == 1 ):\n        # only one line under the postal code assign the Borough as Neighborhood\n        borough = grouped['Borough'].tolist()[0] \n        neighborhood = grouped['Neighborhood'].tolist()[0] \n        if( neighborhood) == not_assigned:\n            return borough\n        else:\n            return neighborhood\n    else:\n        # transform grouped Neighborhood as single value separated with commas\n        return ', '.join(sorted(grouped['Neighborhood'].tolist())) \n                    \ngrp = df.groupby(['PostalCode', 'Borough'])\ndf2 = grp.apply(neighborhood_list).reset_index(name='Neighborhood')"
        },
        {
            "cell_type": "code",
            "execution_count": 13,
            "metadata": {},
            "outputs": [
                {
                    "data": {
                        "text/html": "<div>\n<style scoped>\n    .dataframe tbody tr th:only-of-type {\n        vertical-align: middle;\n    }\n\n    .dataframe tbody tr th {\n        vertical-align: top;\n    }\n\n    .dataframe thead th {\n        text-align: right;\n    }\n</style>\n<table border=\"1\" class=\"dataframe\">\n  <thead>\n    <tr style=\"text-align: right;\">\n      <th></th>\n      <th>PostalCode</th>\n      <th>Borough</th>\n      <th>Neighborhood</th>\n    </tr>\n  </thead>\n  <tbody>\n    <tr>\n      <th>120</th>\n      <td>M7A</td>\n      <td>Downtown Toronto</td>\n      <td>Queen's Park / Ontario Provincial Government</td>\n    </tr>\n  </tbody>\n</table>\n</div>",
                        "text/plain": "    PostalCode           Borough                                  Neighborhood\n120        M7A  Downtown Toronto  Queen's Park / Ontario Provincial Government"
                    },
                    "execution_count": 13,
                    "metadata": {},
                    "output_type": "execute_result"
                }
            ],
            "source": "df2[df2.PostalCode == 'M7A']"
        },
        {
            "cell_type": "code",
            "execution_count": 14,
            "metadata": {},
            "outputs": [
                {
                    "data": {
                        "text/html": "<div>\n<style scoped>\n    .dataframe tbody tr th:only-of-type {\n        vertical-align: middle;\n    }\n\n    .dataframe tbody tr th {\n        vertical-align: top;\n    }\n\n    .dataframe thead th {\n        text-align: right;\n    }\n</style>\n<table border=\"1\" class=\"dataframe\">\n  <thead>\n    <tr style=\"text-align: right;\">\n      <th></th>\n      <th>PostalCode</th>\n      <th>Borough</th>\n      <th>Neighborhood</th>\n    </tr>\n  </thead>\n  <tbody>\n    <tr>\n      <th>0</th>\n      <td>M1A</td>\n      <td>Not assigned</td>\n      <td></td>\n    </tr>\n    <tr>\n      <th>1</th>\n      <td>M1B</td>\n      <td>Scarborough</td>\n      <td>Malvern / Rouge</td>\n    </tr>\n    <tr>\n      <th>2</th>\n      <td>M1C</td>\n      <td>Scarborough</td>\n      <td>Rouge Hill / Port Union / Highland Creek</td>\n    </tr>\n    <tr>\n      <th>3</th>\n      <td>M1E</td>\n      <td>Scarborough</td>\n      <td>Guildwood / Morningside / West Hill</td>\n    </tr>\n    <tr>\n      <th>4</th>\n      <td>M1G</td>\n      <td>Scarborough</td>\n      <td>Woburn</td>\n    </tr>\n    <tr>\n      <th>5</th>\n      <td>M1H</td>\n      <td>Scarborough</td>\n      <td>Cedarbrae</td>\n    </tr>\n    <tr>\n      <th>6</th>\n      <td>M1J</td>\n      <td>Scarborough</td>\n      <td>Scarborough Village</td>\n    </tr>\n    <tr>\n      <th>7</th>\n      <td>M1K</td>\n      <td>Scarborough</td>\n      <td>Kennedy Park / Ionview / East Birchmount Park</td>\n    </tr>\n    <tr>\n      <th>8</th>\n      <td>M1L</td>\n      <td>Scarborough</td>\n      <td>Golden Mile / Clairlea / Oakridge</td>\n    </tr>\n    <tr>\n      <th>9</th>\n      <td>M1M</td>\n      <td>Scarborough</td>\n      <td>Cliffside / Cliffcrest / Scarborough Village West</td>\n    </tr>\n    <tr>\n      <th>10</th>\n      <td>M1N</td>\n      <td>Scarborough</td>\n      <td>Birch Cliff / Cliffside West</td>\n    </tr>\n    <tr>\n      <th>11</th>\n      <td>M1P</td>\n      <td>Scarborough</td>\n      <td>Dorset Park / Wexford Heights / Scarborough To...</td>\n    </tr>\n    <tr>\n      <th>12</th>\n      <td>M1R</td>\n      <td>Scarborough</td>\n      <td>Wexford / Maryvale</td>\n    </tr>\n    <tr>\n      <th>13</th>\n      <td>M1S</td>\n      <td>Scarborough</td>\n      <td>Agincourt</td>\n    </tr>\n    <tr>\n      <th>14</th>\n      <td>M1T</td>\n      <td>Scarborough</td>\n      <td>Clarks Corners / Tam O'Shanter / Sullivan</td>\n    </tr>\n    <tr>\n      <th>15</th>\n      <td>M1V</td>\n      <td>Scarborough</td>\n      <td>Milliken / Agincourt North / Steeles East / L'...</td>\n    </tr>\n    <tr>\n      <th>16</th>\n      <td>M1W</td>\n      <td>Scarborough</td>\n      <td>Steeles West / L'Amoreaux West</td>\n    </tr>\n    <tr>\n      <th>17</th>\n      <td>M1X</td>\n      <td>Scarborough</td>\n      <td>Upper Rouge</td>\n    </tr>\n    <tr>\n      <th>18</th>\n      <td>M1Y</td>\n      <td>Not assigned</td>\n      <td></td>\n    </tr>\n    <tr>\n      <th>19</th>\n      <td>M1Z</td>\n      <td>Not assigned</td>\n      <td></td>\n    </tr>\n    <tr>\n      <th>20</th>\n      <td>M2A</td>\n      <td>Not assigned</td>\n      <td></td>\n    </tr>\n    <tr>\n      <th>21</th>\n      <td>M2B</td>\n      <td>Not assigned</td>\n      <td></td>\n    </tr>\n    <tr>\n      <th>22</th>\n      <td>M2C</td>\n      <td>Not assigned</td>\n      <td></td>\n    </tr>\n    <tr>\n      <th>23</th>\n      <td>M2E</td>\n      <td>Not assigned</td>\n      <td></td>\n    </tr>\n    <tr>\n      <th>24</th>\n      <td>M2G</td>\n      <td>Not assigned</td>\n      <td></td>\n    </tr>\n    <tr>\n      <th>25</th>\n      <td>M2H</td>\n      <td>North York</td>\n      <td>Hillcrest Village</td>\n    </tr>\n    <tr>\n      <th>26</th>\n      <td>M2J</td>\n      <td>North York</td>\n      <td>Fairview / Henry Farm / Oriole</td>\n    </tr>\n    <tr>\n      <th>27</th>\n      <td>M2K</td>\n      <td>North York</td>\n      <td>Bayview Village</td>\n    </tr>\n    <tr>\n      <th>28</th>\n      <td>M2L</td>\n      <td>North York</td>\n      <td>York Mills / Silver Hills</td>\n    </tr>\n    <tr>\n      <th>29</th>\n      <td>M2M</td>\n      <td>North York</td>\n      <td>Willowdale / Newtonbrook</td>\n    </tr>\n    <tr>\n      <th>...</th>\n      <td>...</td>\n      <td>...</td>\n      <td>...</td>\n    </tr>\n    <tr>\n      <th>150</th>\n      <td>M8N</td>\n      <td>Not assigned</td>\n      <td></td>\n    </tr>\n    <tr>\n      <th>151</th>\n      <td>M8P</td>\n      <td>Not assigned</td>\n      <td></td>\n    </tr>\n    <tr>\n      <th>152</th>\n      <td>M8R</td>\n      <td>Not assigned</td>\n      <td></td>\n    </tr>\n    <tr>\n      <th>153</th>\n      <td>M8S</td>\n      <td>Not assigned</td>\n      <td></td>\n    </tr>\n    <tr>\n      <th>154</th>\n      <td>M8T</td>\n      <td>Not assigned</td>\n      <td></td>\n    </tr>\n    <tr>\n      <th>155</th>\n      <td>M8V</td>\n      <td>Etobicoke</td>\n      <td>New Toronto / Mimico South / Humber Bay Shores</td>\n    </tr>\n    <tr>\n      <th>156</th>\n      <td>M8W</td>\n      <td>Etobicoke</td>\n      <td>Alderwood / Long Branch</td>\n    </tr>\n    <tr>\n      <th>157</th>\n      <td>M8X</td>\n      <td>Etobicoke</td>\n      <td>The Kingsway / Montgomery Road  / Old Mill North</td>\n    </tr>\n    <tr>\n      <th>158</th>\n      <td>M8Y</td>\n      <td>Etobicoke</td>\n      <td>Old Mill South / King's Mill Park / Sunnylea /...</td>\n    </tr>\n    <tr>\n      <th>159</th>\n      <td>M8Z</td>\n      <td>Etobicoke</td>\n      <td>Mimico NW / The Queensway West / South of Bloo...</td>\n    </tr>\n    <tr>\n      <th>160</th>\n      <td>M9A</td>\n      <td>Etobicoke</td>\n      <td>Islington Avenue</td>\n    </tr>\n    <tr>\n      <th>161</th>\n      <td>M9B</td>\n      <td>Etobicoke</td>\n      <td>West Deane Park / Princess Gardens / Martin Gr...</td>\n    </tr>\n    <tr>\n      <th>162</th>\n      <td>M9C</td>\n      <td>Etobicoke</td>\n      <td>Eringate / Bloordale Gardens / Old Burnhamthor...</td>\n    </tr>\n    <tr>\n      <th>163</th>\n      <td>M9E</td>\n      <td>Not assigned</td>\n      <td></td>\n    </tr>\n    <tr>\n      <th>164</th>\n      <td>M9G</td>\n      <td>Not assigned</td>\n      <td></td>\n    </tr>\n    <tr>\n      <th>165</th>\n      <td>M9H</td>\n      <td>Not assigned</td>\n      <td></td>\n    </tr>\n    <tr>\n      <th>166</th>\n      <td>M9J</td>\n      <td>Not assigned</td>\n      <td></td>\n    </tr>\n    <tr>\n      <th>167</th>\n      <td>M9K</td>\n      <td>Not assigned</td>\n      <td></td>\n    </tr>\n    <tr>\n      <th>168</th>\n      <td>M9L</td>\n      <td>North York</td>\n      <td>Humber Summit</td>\n    </tr>\n    <tr>\n      <th>169</th>\n      <td>M9M</td>\n      <td>North York</td>\n      <td>Humberlea / Emery</td>\n    </tr>\n    <tr>\n      <th>170</th>\n      <td>M9N</td>\n      <td>York</td>\n      <td>Weston</td>\n    </tr>\n    <tr>\n      <th>171</th>\n      <td>M9P</td>\n      <td>Etobicoke</td>\n      <td>Westmount</td>\n    </tr>\n    <tr>\n      <th>172</th>\n      <td>M9R</td>\n      <td>Etobicoke</td>\n      <td>Kingsview Village / St. Phillips / Martin Grov...</td>\n    </tr>\n    <tr>\n      <th>173</th>\n      <td>M9S</td>\n      <td>Not assigned</td>\n      <td></td>\n    </tr>\n    <tr>\n      <th>174</th>\n      <td>M9T</td>\n      <td>Not assigned</td>\n      <td></td>\n    </tr>\n    <tr>\n      <th>175</th>\n      <td>M9V</td>\n      <td>Etobicoke</td>\n      <td>South Steeles / Silverstone / Humbergate / Jam...</td>\n    </tr>\n    <tr>\n      <th>176</th>\n      <td>M9W</td>\n      <td>Etobicoke</td>\n      <td>Northwest</td>\n    </tr>\n    <tr>\n      <th>177</th>\n      <td>M9X</td>\n      <td>Not assigned</td>\n      <td></td>\n    </tr>\n    <tr>\n      <th>178</th>\n      <td>M9Y</td>\n      <td>Not assigned</td>\n      <td></td>\n    </tr>\n    <tr>\n      <th>179</th>\n      <td>M9Z</td>\n      <td>Not assigned</td>\n      <td></td>\n    </tr>\n  </tbody>\n</table>\n<p>180 rows \u00d7 3 columns</p>\n</div>",
                        "text/plain": "    PostalCode       Borough  \\\n0          M1A  Not assigned   \n1          M1B   Scarborough   \n2          M1C   Scarborough   \n3          M1E   Scarborough   \n4          M1G   Scarborough   \n5          M1H   Scarborough   \n6          M1J   Scarborough   \n7          M1K   Scarborough   \n8          M1L   Scarborough   \n9          M1M   Scarborough   \n10         M1N   Scarborough   \n11         M1P   Scarborough   \n12         M1R   Scarborough   \n13         M1S   Scarborough   \n14         M1T   Scarborough   \n15         M1V   Scarborough   \n16         M1W   Scarborough   \n17         M1X   Scarborough   \n18         M1Y  Not assigned   \n19         M1Z  Not assigned   \n20         M2A  Not assigned   \n21         M2B  Not assigned   \n22         M2C  Not assigned   \n23         M2E  Not assigned   \n24         M2G  Not assigned   \n25         M2H    North York   \n26         M2J    North York   \n27         M2K    North York   \n28         M2L    North York   \n29         M2M    North York   \n..         ...           ...   \n150        M8N  Not assigned   \n151        M8P  Not assigned   \n152        M8R  Not assigned   \n153        M8S  Not assigned   \n154        M8T  Not assigned   \n155        M8V     Etobicoke   \n156        M8W     Etobicoke   \n157        M8X     Etobicoke   \n158        M8Y     Etobicoke   \n159        M8Z     Etobicoke   \n160        M9A     Etobicoke   \n161        M9B     Etobicoke   \n162        M9C     Etobicoke   \n163        M9E  Not assigned   \n164        M9G  Not assigned   \n165        M9H  Not assigned   \n166        M9J  Not assigned   \n167        M9K  Not assigned   \n168        M9L    North York   \n169        M9M    North York   \n170        M9N          York   \n171        M9P     Etobicoke   \n172        M9R     Etobicoke   \n173        M9S  Not assigned   \n174        M9T  Not assigned   \n175        M9V     Etobicoke   \n176        M9W     Etobicoke   \n177        M9X  Not assigned   \n178        M9Y  Not assigned   \n179        M9Z  Not assigned   \n\n                                          Neighborhood  \n0                                                       \n1                                      Malvern / Rouge  \n2             Rouge Hill / Port Union / Highland Creek  \n3                  Guildwood / Morningside / West Hill  \n4                                               Woburn  \n5                                            Cedarbrae  \n6                                  Scarborough Village  \n7        Kennedy Park / Ionview / East Birchmount Park  \n8                    Golden Mile / Clairlea / Oakridge  \n9    Cliffside / Cliffcrest / Scarborough Village West  \n10                        Birch Cliff / Cliffside West  \n11   Dorset Park / Wexford Heights / Scarborough To...  \n12                                  Wexford / Maryvale  \n13                                           Agincourt  \n14           Clarks Corners / Tam O'Shanter / Sullivan  \n15   Milliken / Agincourt North / Steeles East / L'...  \n16                      Steeles West / L'Amoreaux West  \n17                                         Upper Rouge  \n18                                                      \n19                                                      \n20                                                      \n21                                                      \n22                                                      \n23                                                      \n24                                                      \n25                                   Hillcrest Village  \n26                      Fairview / Henry Farm / Oriole  \n27                                     Bayview Village  \n28                           York Mills / Silver Hills  \n29                            Willowdale / Newtonbrook  \n..                                                 ...  \n150                                                     \n151                                                     \n152                                                     \n153                                                     \n154                                                     \n155     New Toronto / Mimico South / Humber Bay Shores  \n156                            Alderwood / Long Branch  \n157   The Kingsway / Montgomery Road  / Old Mill North  \n158  Old Mill South / King's Mill Park / Sunnylea /...  \n159  Mimico NW / The Queensway West / South of Bloo...  \n160                                   Islington Avenue  \n161  West Deane Park / Princess Gardens / Martin Gr...  \n162  Eringate / Bloordale Gardens / Old Burnhamthor...  \n163                                                     \n164                                                     \n165                                                     \n166                                                     \n167                                                     \n168                                      Humber Summit  \n169                                  Humberlea / Emery  \n170                                             Weston  \n171                                          Westmount  \n172  Kingsview Village / St. Phillips / Martin Grov...  \n173                                                     \n174                                                     \n175  South Steeles / Silverstone / Humbergate / Jam...  \n176                                          Northwest  \n177                                                     \n178                                                     \n179                                                     \n\n[180 rows x 3 columns]"
                    },
                    "execution_count": 14,
                    "metadata": {},
                    "output_type": "execute_result"
                }
            ],
            "source": "df2"
        },
        {
            "cell_type": "markdown",
            "metadata": {},
            "source": "## Task 2"
        },
        {
            "cell_type": "code",
            "execution_count": 15,
            "metadata": {},
            "outputs": [],
            "source": "#!pip install geocoder\nimport geocoder"
        },
        {
            "cell_type": "code",
            "execution_count": 16,
            "metadata": {},
            "outputs": [],
            "source": "df=pd.read_csv('task1.csv')"
        },
        {
            "cell_type": "code",
            "execution_count": 17,
            "metadata": {},
            "outputs": [
                {
                    "data": {
                        "text/html": "<div>\n<style scoped>\n    .dataframe tbody tr th:only-of-type {\n        vertical-align: middle;\n    }\n\n    .dataframe tbody tr th {\n        vertical-align: top;\n    }\n\n    .dataframe thead th {\n        text-align: right;\n    }\n</style>\n<table border=\"1\" class=\"dataframe\">\n  <thead>\n    <tr style=\"text-align: right;\">\n      <th></th>\n      <th>PostalCode</th>\n      <th>Borough</th>\n      <th>Neighborhood</th>\n    </tr>\n  </thead>\n  <tbody>\n    <tr>\n      <th>0</th>\n      <td>M1B</td>\n      <td>Scarborough</td>\n      <td>Malvern / Rouge</td>\n    </tr>\n    <tr>\n      <th>1</th>\n      <td>M1C</td>\n      <td>Scarborough</td>\n      <td>Rouge Hill / Port Union / Highland Creek</td>\n    </tr>\n    <tr>\n      <th>2</th>\n      <td>M1E</td>\n      <td>Scarborough</td>\n      <td>Guildwood / Morningside / West Hill</td>\n    </tr>\n    <tr>\n      <th>3</th>\n      <td>M1G</td>\n      <td>Scarborough</td>\n      <td>Woburn</td>\n    </tr>\n    <tr>\n      <th>4</th>\n      <td>M1H</td>\n      <td>Scarborough</td>\n      <td>Cedarbrae</td>\n    </tr>\n  </tbody>\n</table>\n</div>",
                        "text/plain": "  PostalCode      Borough                              Neighborhood\n0        M1B  Scarborough                           Malvern / Rouge\n1        M1C  Scarborough  Rouge Hill / Port Union / Highland Creek\n2        M1E  Scarborough       Guildwood / Morningside / West Hill\n3        M1G  Scarborough                                    Woburn\n4        M1H  Scarborough                                 Cedarbrae"
                    },
                    "execution_count": 17,
                    "metadata": {},
                    "output_type": "execute_result"
                }
            ],
            "source": "df.head()"
        },
        {
            "cell_type": "code",
            "execution_count": 18,
            "metadata": {},
            "outputs": [
                {
                    "data": {
                        "text/plain": "[43.70941386000004, -79.36309957799995]"
                    },
                    "execution_count": 18,
                    "metadata": {},
                    "output_type": "execute_result"
                }
            ],
            "source": "def get_latlng(postal_code):\n    # initialize your variable to None\n    lat_lng_coords = None\n    # loop until you get the coordinates\n    while(lat_lng_coords is None):\n        g = geocoder.arcgis('{}, Toronto, Ontario'.format(postal_code))\n        lat_lng_coords = g.latlng\n    return lat_lng_coords\n    \n    \nget_latlng('M4G')"
        },
        {
            "cell_type": "markdown",
            "metadata": {},
            "source": "## Get PostalCode Co-ordinates"
        },
        {
            "cell_type": "code",
            "execution_count": 20,
            "metadata": {},
            "outputs": [],
            "source": "df_coords = pd.DataFrame(coords, columns=['Latitude', 'Longitude'])\ndf['Latitude'] = df_coords['Latitude']\ndf['Longitude'] = df_coords['Longitude']"
        },
        {
            "cell_type": "code",
            "execution_count": 21,
            "metadata": {},
            "outputs": [
                {
                    "data": {
                        "text/html": "<div>\n<style scoped>\n    .dataframe tbody tr th:only-of-type {\n        vertical-align: middle;\n    }\n\n    .dataframe tbody tr th {\n        vertical-align: top;\n    }\n\n    .dataframe thead th {\n        text-align: right;\n    }\n</style>\n<table border=\"1\" class=\"dataframe\">\n  <thead>\n    <tr style=\"text-align: right;\">\n      <th></th>\n      <th>PostalCode</th>\n      <th>Borough</th>\n      <th>Neighborhood</th>\n      <th>Latitude</th>\n      <th>Longitude</th>\n    </tr>\n  </thead>\n  <tbody>\n    <tr>\n      <th>0</th>\n      <td>M1B</td>\n      <td>Scarborough</td>\n      <td>Malvern / Rouge</td>\n      <td>43.808626</td>\n      <td>-79.189913</td>\n    </tr>\n    <tr>\n      <th>1</th>\n      <td>M1C</td>\n      <td>Scarborough</td>\n      <td>Rouge Hill / Port Union / Highland Creek</td>\n      <td>43.785779</td>\n      <td>-79.157368</td>\n    </tr>\n    <tr>\n      <th>2</th>\n      <td>M1E</td>\n      <td>Scarborough</td>\n      <td>Guildwood / Morningside / West Hill</td>\n      <td>43.765806</td>\n      <td>-79.185284</td>\n    </tr>\n    <tr>\n      <th>3</th>\n      <td>M1G</td>\n      <td>Scarborough</td>\n      <td>Woburn</td>\n      <td>43.771545</td>\n      <td>-79.218135</td>\n    </tr>\n    <tr>\n      <th>4</th>\n      <td>M1H</td>\n      <td>Scarborough</td>\n      <td>Cedarbrae</td>\n      <td>43.768791</td>\n      <td>-79.238813</td>\n    </tr>\n  </tbody>\n</table>\n</div>",
                        "text/plain": "  PostalCode      Borough                              Neighborhood  \\\n0        M1B  Scarborough                           Malvern / Rouge   \n1        M1C  Scarborough  Rouge Hill / Port Union / Highland Creek   \n2        M1E  Scarborough       Guildwood / Morningside / West Hill   \n3        M1G  Scarborough                                    Woburn   \n4        M1H  Scarborough                                 Cedarbrae   \n\n    Latitude  Longitude  \n0  43.808626 -79.189913  \n1  43.785779 -79.157368  \n2  43.765806 -79.185284  \n3  43.771545 -79.218135  \n4  43.768791 -79.238813  "
                    },
                    "execution_count": 21,
                    "metadata": {},
                    "output_type": "execute_result"
                }
            ],
            "source": "df.head()"
        },
        {
            "cell_type": "markdown",
            "metadata": {},
            "source": "## Task 3"
        },
        {
            "cell_type": "code",
            "execution_count": 22,
            "metadata": {},
            "outputs": [],
            "source": "import requests # library to handle requests\nfrom pandas.io.json import json_normalize # tranform JSON file into a pandas dataframe\n\n# Matplotlib and associated plotting modules\nimport matplotlib.cm as cm\nimport matplotlib.colors as colors\n\n# import k-means from clustering stage\nfrom sklearn.cluster import KMeans\n\n#!conda install -c conda-forge folium=0.5.0 --yes # uncomment this line if you haven't completed the Foursquare API lab\nimport folium # map rendering library\n"
        },
        {
            "cell_type": "code",
            "execution_count": 23,
            "metadata": {},
            "outputs": [
                {
                    "data": {
                        "text/plain": "[43.648690000000045, -79.38543999999996]"
                    },
                    "execution_count": 23,
                    "metadata": {},
                    "output_type": "execute_result"
                }
            ],
            "source": "toronto_coords = get_latlng('')\ntoronto_coords"
        },
        {
            "cell_type": "code",
            "execution_count": 24,
            "metadata": {},
            "outputs": [],
            "source": "df3 = df2[ df2.Borough.str.contains('Toronto') ]"
        },
        {
            "cell_type": "code",
            "execution_count": 25,
            "metadata": {},
            "outputs": [
                {
                    "data": {
                        "text/html": "<div>\n<style scoped>\n    .dataframe tbody tr th:only-of-type {\n        vertical-align: middle;\n    }\n\n    .dataframe tbody tr th {\n        vertical-align: top;\n    }\n\n    .dataframe thead th {\n        text-align: right;\n    }\n</style>\n<table border=\"1\" class=\"dataframe\">\n  <thead>\n    <tr style=\"text-align: right;\">\n      <th></th>\n      <th>PostalCode</th>\n      <th>Borough</th>\n      <th>Neighborhood</th>\n    </tr>\n  </thead>\n  <tbody>\n    <tr>\n      <th>63</th>\n      <td>M4E</td>\n      <td>East Toronto</td>\n      <td>The Beaches</td>\n    </tr>\n    <tr>\n      <th>67</th>\n      <td>M4K</td>\n      <td>East Toronto</td>\n      <td>The Danforth West / Riverdale</td>\n    </tr>\n    <tr>\n      <th>68</th>\n      <td>M4L</td>\n      <td>East Toronto</td>\n      <td>India Bazaar / The Beaches West</td>\n    </tr>\n    <tr>\n      <th>69</th>\n      <td>M4M</td>\n      <td>East Toronto</td>\n      <td>Studio District</td>\n    </tr>\n    <tr>\n      <th>70</th>\n      <td>M4N</td>\n      <td>Central Toronto</td>\n      <td>Lawrence Park</td>\n    </tr>\n    <tr>\n      <th>71</th>\n      <td>M4P</td>\n      <td>Central Toronto</td>\n      <td>Davisville North</td>\n    </tr>\n    <tr>\n      <th>72</th>\n      <td>M4R</td>\n      <td>Central Toronto</td>\n      <td>North Toronto West</td>\n    </tr>\n    <tr>\n      <th>73</th>\n      <td>M4S</td>\n      <td>Central Toronto</td>\n      <td>Davisville</td>\n    </tr>\n    <tr>\n      <th>74</th>\n      <td>M4T</td>\n      <td>Central Toronto</td>\n      <td>Moore Park / Summerhill East</td>\n    </tr>\n    <tr>\n      <th>75</th>\n      <td>M4V</td>\n      <td>Central Toronto</td>\n      <td>Summerhill West / Rathnelly / South Hill / For...</td>\n    </tr>\n    <tr>\n      <th>76</th>\n      <td>M4W</td>\n      <td>Downtown Toronto</td>\n      <td>Rosedale</td>\n    </tr>\n    <tr>\n      <th>77</th>\n      <td>M4X</td>\n      <td>Downtown Toronto</td>\n      <td>St. James Town / Cabbagetown</td>\n    </tr>\n    <tr>\n      <th>78</th>\n      <td>M4Y</td>\n      <td>Downtown Toronto</td>\n      <td>Church and Wellesley</td>\n    </tr>\n    <tr>\n      <th>80</th>\n      <td>M5A</td>\n      <td>Downtown Toronto</td>\n      <td>Regent Park / Harbourfront</td>\n    </tr>\n    <tr>\n      <th>81</th>\n      <td>M5B</td>\n      <td>Downtown Toronto</td>\n      <td>Garden District / Ryerson</td>\n    </tr>\n    <tr>\n      <th>82</th>\n      <td>M5C</td>\n      <td>Downtown Toronto</td>\n      <td>St. James Town</td>\n    </tr>\n    <tr>\n      <th>83</th>\n      <td>M5E</td>\n      <td>Downtown Toronto</td>\n      <td>Berczy Park</td>\n    </tr>\n    <tr>\n      <th>84</th>\n      <td>M5G</td>\n      <td>Downtown Toronto</td>\n      <td>Central Bay Street</td>\n    </tr>\n    <tr>\n      <th>85</th>\n      <td>M5H</td>\n      <td>Downtown Toronto</td>\n      <td>Richmond / Adelaide / King</td>\n    </tr>\n    <tr>\n      <th>86</th>\n      <td>M5J</td>\n      <td>Downtown Toronto</td>\n      <td>Harbourfront East / Union Station / Toronto Is...</td>\n    </tr>\n    <tr>\n      <th>87</th>\n      <td>M5K</td>\n      <td>Downtown Toronto</td>\n      <td>Toronto Dominion Centre / Design Exchange</td>\n    </tr>\n    <tr>\n      <th>88</th>\n      <td>M5L</td>\n      <td>Downtown Toronto</td>\n      <td>Commerce Court / Victoria Hotel</td>\n    </tr>\n    <tr>\n      <th>90</th>\n      <td>M5N</td>\n      <td>Central Toronto</td>\n      <td>Roselawn</td>\n    </tr>\n    <tr>\n      <th>91</th>\n      <td>M5P</td>\n      <td>Central Toronto</td>\n      <td>Forest Hill North &amp; West</td>\n    </tr>\n    <tr>\n      <th>92</th>\n      <td>M5R</td>\n      <td>Central Toronto</td>\n      <td>The Annex / North Midtown / Yorkville</td>\n    </tr>\n    <tr>\n      <th>93</th>\n      <td>M5S</td>\n      <td>Downtown Toronto</td>\n      <td>University of Toronto / Harbord</td>\n    </tr>\n    <tr>\n      <th>94</th>\n      <td>M5T</td>\n      <td>Downtown Toronto</td>\n      <td>Kensington Market / Chinatown / Grange Park</td>\n    </tr>\n    <tr>\n      <th>95</th>\n      <td>M5V</td>\n      <td>Downtown Toronto</td>\n      <td>CN Tower / King and Spadina / Railway Lands / ...</td>\n    </tr>\n    <tr>\n      <th>96</th>\n      <td>M5W</td>\n      <td>Downtown Toronto</td>\n      <td>Stn A PO Boxes</td>\n    </tr>\n    <tr>\n      <th>97</th>\n      <td>M5X</td>\n      <td>Downtown Toronto</td>\n      <td>First Canadian Place / Underground city</td>\n    </tr>\n    <tr>\n      <th>104</th>\n      <td>M6G</td>\n      <td>Downtown Toronto</td>\n      <td>Christie</td>\n    </tr>\n    <tr>\n      <th>105</th>\n      <td>M6H</td>\n      <td>West Toronto</td>\n      <td>Dufferin / Dovercourt Village</td>\n    </tr>\n    <tr>\n      <th>106</th>\n      <td>M6J</td>\n      <td>West Toronto</td>\n      <td>Little Portugal / Trinity</td>\n    </tr>\n    <tr>\n      <th>107</th>\n      <td>M6K</td>\n      <td>West Toronto</td>\n      <td>Brockton / Parkdale Village / Exhibition Place</td>\n    </tr>\n    <tr>\n      <th>111</th>\n      <td>M6P</td>\n      <td>West Toronto</td>\n      <td>High Park / The Junction South</td>\n    </tr>\n    <tr>\n      <th>112</th>\n      <td>M6R</td>\n      <td>West Toronto</td>\n      <td>Parkdale / Roncesvalles</td>\n    </tr>\n    <tr>\n      <th>113</th>\n      <td>M6S</td>\n      <td>West Toronto</td>\n      <td>Runnymede / Swansea</td>\n    </tr>\n    <tr>\n      <th>120</th>\n      <td>M7A</td>\n      <td>Downtown Toronto</td>\n      <td>Queen's Park / Ontario Provincial Government</td>\n    </tr>\n    <tr>\n      <th>138</th>\n      <td>M7Y</td>\n      <td>East Toronto</td>\n      <td>Business reply mail Processing Centre</td>\n    </tr>\n  </tbody>\n</table>\n</div>",
                        "text/plain": "    PostalCode           Borough  \\\n63         M4E      East Toronto   \n67         M4K      East Toronto   \n68         M4L      East Toronto   \n69         M4M      East Toronto   \n70         M4N   Central Toronto   \n71         M4P   Central Toronto   \n72         M4R   Central Toronto   \n73         M4S   Central Toronto   \n74         M4T   Central Toronto   \n75         M4V   Central Toronto   \n76         M4W  Downtown Toronto   \n77         M4X  Downtown Toronto   \n78         M4Y  Downtown Toronto   \n80         M5A  Downtown Toronto   \n81         M5B  Downtown Toronto   \n82         M5C  Downtown Toronto   \n83         M5E  Downtown Toronto   \n84         M5G  Downtown Toronto   \n85         M5H  Downtown Toronto   \n86         M5J  Downtown Toronto   \n87         M5K  Downtown Toronto   \n88         M5L  Downtown Toronto   \n90         M5N   Central Toronto   \n91         M5P   Central Toronto   \n92         M5R   Central Toronto   \n93         M5S  Downtown Toronto   \n94         M5T  Downtown Toronto   \n95         M5V  Downtown Toronto   \n96         M5W  Downtown Toronto   \n97         M5X  Downtown Toronto   \n104        M6G  Downtown Toronto   \n105        M6H      West Toronto   \n106        M6J      West Toronto   \n107        M6K      West Toronto   \n111        M6P      West Toronto   \n112        M6R      West Toronto   \n113        M6S      West Toronto   \n120        M7A  Downtown Toronto   \n138        M7Y      East Toronto   \n\n                                          Neighborhood  \n63                                         The Beaches  \n67                       The Danforth West / Riverdale  \n68                     India Bazaar / The Beaches West  \n69                                     Studio District  \n70                                       Lawrence Park  \n71                                    Davisville North  \n72                                  North Toronto West  \n73                                          Davisville  \n74                        Moore Park / Summerhill East  \n75   Summerhill West / Rathnelly / South Hill / For...  \n76                                            Rosedale  \n77                        St. James Town / Cabbagetown  \n78                                Church and Wellesley  \n80                          Regent Park / Harbourfront  \n81                           Garden District / Ryerson  \n82                                      St. James Town  \n83                                         Berczy Park  \n84                                  Central Bay Street  \n85                          Richmond / Adelaide / King  \n86   Harbourfront East / Union Station / Toronto Is...  \n87           Toronto Dominion Centre / Design Exchange  \n88                     Commerce Court / Victoria Hotel  \n90                                            Roselawn  \n91                            Forest Hill North & West  \n92               The Annex / North Midtown / Yorkville  \n93                     University of Toronto / Harbord  \n94         Kensington Market / Chinatown / Grange Park  \n95   CN Tower / King and Spadina / Railway Lands / ...  \n96                                      Stn A PO Boxes  \n97             First Canadian Place / Underground city  \n104                                           Christie  \n105                      Dufferin / Dovercourt Village  \n106                          Little Portugal / Trinity  \n107     Brockton / Parkdale Village / Exhibition Place  \n111                     High Park / The Junction South  \n112                            Parkdale / Roncesvalles  \n113                                Runnymede / Swansea  \n120       Queen's Park / Ontario Provincial Government  \n138              Business reply mail Processing Centre  "
                    },
                    "execution_count": 25,
                    "metadata": {},
                    "output_type": "execute_result"
                }
            ],
            "source": "df3"
        },
        {
            "cell_type": "markdown",
            "metadata": {},
            "source": "## Create Data on map"
        },
        {
            "cell_type": "code",
            "execution_count": 28,
            "metadata": {},
            "outputs": [],
            "source": "toronto_data = pd.DataFrame(df3)"
        },
        {
            "cell_type": "code",
            "execution_count": 29,
            "metadata": {},
            "outputs": [],
            "source": "toronto_data = toronto_data.reset_index().drop('index', axis=1)"
        },
        {
            "cell_type": "code",
            "execution_count": 30,
            "metadata": {},
            "outputs": [
                {
                    "data": {
                        "text/html": "<div>\n<style scoped>\n    .dataframe tbody tr th:only-of-type {\n        vertical-align: middle;\n    }\n\n    .dataframe tbody tr th {\n        vertical-align: top;\n    }\n\n    .dataframe thead th {\n        text-align: right;\n    }\n</style>\n<table border=\"1\" class=\"dataframe\">\n  <thead>\n    <tr style=\"text-align: right;\">\n      <th></th>\n      <th>PostalCode</th>\n      <th>Borough</th>\n      <th>Neighborhood</th>\n    </tr>\n  </thead>\n  <tbody>\n    <tr>\n      <th>0</th>\n      <td>M4E</td>\n      <td>East Toronto</td>\n      <td>The Beaches</td>\n    </tr>\n    <tr>\n      <th>1</th>\n      <td>M4K</td>\n      <td>East Toronto</td>\n      <td>The Danforth West / Riverdale</td>\n    </tr>\n    <tr>\n      <th>2</th>\n      <td>M4L</td>\n      <td>East Toronto</td>\n      <td>India Bazaar / The Beaches West</td>\n    </tr>\n    <tr>\n      <th>3</th>\n      <td>M4M</td>\n      <td>East Toronto</td>\n      <td>Studio District</td>\n    </tr>\n    <tr>\n      <th>4</th>\n      <td>M4N</td>\n      <td>Central Toronto</td>\n      <td>Lawrence Park</td>\n    </tr>\n  </tbody>\n</table>\n</div>",
                        "text/plain": "  PostalCode          Borough                     Neighborhood\n0        M4E     East Toronto                      The Beaches\n1        M4K     East Toronto    The Danforth West / Riverdale\n2        M4L     East Toronto  India Bazaar / The Beaches West\n3        M4M     East Toronto                  Studio District\n4        M4N  Central Toronto                    Lawrence Park"
                    },
                    "execution_count": 30,
                    "metadata": {},
                    "output_type": "execute_result"
                }
            ],
            "source": "toronto_data.head()"
        },
        {
            "cell_type": "code",
            "execution_count": 31,
            "metadata": {},
            "outputs": [
                {
                    "data": {
                        "text/plain": "'The Beaches'"
                    },
                    "execution_count": 31,
                    "metadata": {},
                    "output_type": "execute_result"
                }
            ],
            "source": "toronto_data.loc[0, 'Neighborhood']"
        },
        {
            "cell_type": "code",
            "execution_count": 33,
            "metadata": {},
            "outputs": [
                {
                    "ename": "TypeError",
                    "evalue": "'NoneType' object is not subscriptable",
                    "output_type": "error",
                    "traceback": [
                        "\u001b[0;31m---------------------------------------------------------------------------\u001b[0m",
                        "\u001b[0;31mTypeError\u001b[0m                                 Traceback (most recent call last)",
                        "\u001b[0;32m<ipython-input-33-014428d7233d>\u001b[0m in \u001b[0;36m<module>\u001b[0;34m\u001b[0m\n\u001b[1;32m      1\u001b[0m \u001b[0;31m# type your answer here\u001b[0m\u001b[0;34m\u001b[0m\u001b[0;34m\u001b[0m\u001b[0;34m\u001b[0m\u001b[0m\n\u001b[1;32m      2\u001b[0m \u001b[0mVERSION\u001b[0m \u001b[0;34m=\u001b[0m \u001b[0;34m'20180605'\u001b[0m\u001b[0;34m\u001b[0m\u001b[0;34m\u001b[0m\u001b[0m\n\u001b[0;32m----> 3\u001b[0;31m \u001b[0mCLIENT_ID\u001b[0m \u001b[0;34m=\u001b[0m \u001b[0mfs_act\u001b[0m\u001b[0;34m[\u001b[0m\u001b[0;34m'client_id'\u001b[0m\u001b[0;34m]\u001b[0m\u001b[0;34m\u001b[0m\u001b[0;34m\u001b[0m\u001b[0m\n\u001b[0m\u001b[1;32m      4\u001b[0m \u001b[0mCLIENT_SECRET\u001b[0m \u001b[0;34m=\u001b[0m \u001b[0mfs_act\u001b[0m\u001b[0;34m[\u001b[0m\u001b[0;34m'client_secret'\u001b[0m\u001b[0;34m]\u001b[0m\u001b[0;34m\u001b[0m\u001b[0;34m\u001b[0m\u001b[0m\n\u001b[1;32m      5\u001b[0m \u001b[0mlatitude\u001b[0m \u001b[0;34m=\u001b[0m \u001b[0mneighborhood_latitude\u001b[0m\u001b[0;34m\u001b[0m\u001b[0;34m\u001b[0m\u001b[0m\n",
                        "\u001b[0;31mTypeError\u001b[0m: 'NoneType' object is not subscriptable"
                    ]
                }
            ],
            "source": "# type your answer here\nVERSION = '20180605'\nCLIENT_ID = fs_act['client_id']\nCLIENT_SECRET = fs_act['client_secret']\nlatitude = neighborhood_latitude\nlongitude = neighborhood_longitude\nradius = 500\nLIMIT = 100\n\nurl = 'https://api.foursquare.com/v2/venues/explore?client_id={}&client_secret={}&ll={},{}&v={}&radius={}&limit={}'.format(CLIENT_ID, CLIENT_SECRET, latitude, longitude, VERSION,radius, LIMIT)\n"
        },
        {
            "cell_type": "code",
            "execution_count": null,
            "metadata": {},
            "outputs": [],
            "source": ""
        }
    ],
    "metadata": {
        "kernelspec": {
            "display_name": "Python 3.6",
            "language": "python",
            "name": "python3"
        },
        "language_info": {
            "codemirror_mode": {
                "name": "ipython",
                "version": 3
            },
            "file_extension": ".py",
            "mimetype": "text/x-python",
            "name": "python",
            "nbconvert_exporter": "python",
            "pygments_lexer": "ipython3",
            "version": "3.6.9"
        }
    },
    "nbformat": 4,
    "nbformat_minor": 1
}